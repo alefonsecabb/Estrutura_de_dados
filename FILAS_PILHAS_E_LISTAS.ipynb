{
  "nbformat": 4,
  "nbformat_minor": 0,
  "metadata": {
    "colab": {
      "provenance": [],
      "authorship_tag": "ABX9TyNEnHmRCBHPE+H+PhMBhZyp",
      "include_colab_link": true
    },
    "kernelspec": {
      "name": "python3",
      "display_name": "Python 3"
    },
    "language_info": {
      "name": "python"
    }
  },
  "cells": [
    {
      "cell_type": "markdown",
      "metadata": {
        "id": "view-in-github",
        "colab_type": "text"
      },
      "source": [
        "<a href=\"https://colab.research.google.com/github/alefonsecabb/Python_Codes/blob/main/FILAS_PILHAS_E_LISTAS.ipynb\" target=\"_parent\"><img src=\"https://colab.research.google.com/assets/colab-badge.svg\" alt=\"Open In Colab\"/></a>"
      ]
    },
    {
      "cell_type": "code",
      "execution_count": 2,
      "metadata": {
        "id": "NFCST92dWWBp",
        "colab": {
          "base_uri": "https://localhost:8080/"
        },
        "outputId": "6c6276f6-979a-4007-bbb7-e7d83bd29529"
      },
      "outputs": [
        {
          "output_type": "stream",
          "name": "stdout",
          "text": [
            "[100, 200, 300, 400, 500]\n",
            "[200, 300, 400, 500]\n",
            "First in line is: {200}\n",
            "The line contains 4 elements\n",
            "Is the line empty ? False\n",
            "[200, 300, 400, 500]\n"
          ]
        }
      ],
      "source": [
        "# First IN, First OUT - Linked list\n",
        "\n",
        "class Fila:\n",
        "    def __init__(self):\n",
        "        self.fila = []\n",
        "\n",
        "    def enfileirar(self, elemento):\n",
        "        self.fila.append(elemento)\n",
        "\n",
        "    def desenfileirar(self):\n",
        "        if not self.esta_vazia():\n",
        "            return self.fila.pop(0)\n",
        "        else:\n",
        "            print(\"A fila está vazia.\")\n",
        "\n",
        "    def esta_vazia(self):\n",
        "        return len(self.fila) == 0\n",
        "\n",
        "    def primeiro(self):\n",
        "        if not self.esta_vazia():\n",
        "            return self.fila[0]\n",
        "        else:\n",
        "            print(\"A fila está vazia.\")\n",
        "\n",
        "    def Exibir_Fila(self):\n",
        "        print(self.fila)\n",
        "\n",
        "    def tamanho(self):\n",
        "        return len(self.fila)\n",
        "\n",
        "fila = Fila()\n",
        "fila.enfileirar(100)\n",
        "fila.enfileirar(200)\n",
        "fila.enfileirar(300)\n",
        "fila.enfileirar(400)\n",
        "fila.enfileirar(500)\n",
        "fila.Exibir_Fila()\n",
        "fila.desenfileirar()\n",
        "fila.Exibir_Fila()\n",
        "\n",
        "\n",
        "print(f'First in line is:', {fila.primeiro()})\n",
        "print(f'The line contains {fila.tamanho()} elements')\n",
        "print(f'Is the line empty ? {fila.esta_vazia()}')\n",
        "fila.Exibir_Fila()"
      ]
    },
    {
      "cell_type": "code",
      "source": [
        "# Doubly linked list\n",
        "\n",
        "class No:\n",
        "  def __init__(self, valor):\n",
        "    self.valor = valor # o dado\n",
        "    self.proximo = None # aponta para o próximo e é vazio (None)\n",
        "    self.anterior = None # aponta para o anterior e é vazio (None)\n",
        "\n",
        "class Lista:\n",
        "  def __init__(self):\n",
        "    self.header = None # início da lista\n",
        "    self.trailer = None # fim da lista\n",
        "    self.tamanho = 0 # tamanho da lista\n",
        "\n",
        "  def inserir_no_inicio(header, valor):\n",
        "    novo_no = No(valor) # cria um novo nó com um valor fornecido\n",
        "    novo_no.proximo = header # faz o ponteiro 'proximo' do novo nó apontar para a cabeça, caso\n",
        "    if header:\n",
        "        header.anterior = novo_no # faz o ponteiro 'anterior' da cabeça apontar para a cabeça\n",
        "    return novo_no\n",
        "\n",
        "  def inserir_depois_no(no, valor):\n",
        "    if no is None:\n",
        "        print(\"Erro: O nó não existe na lista\")\n",
        "        return\n",
        "    novo_no = No(valor) # cria um novo nó com um valor fornecido\n",
        "    novo_no.anterior = no # faz o ponteiro do nó anterior apontar para o novo nó\n",
        "    novo_no.proximo = no.proximo # faz o ponteiro do próximo nó apontar para o novo nó\n",
        "    if no.proximo:\n",
        "        no.proximo.anterior = novo_no\n",
        "    no.proximo = novo_no # atualiza o ponteiro para apontar para o novo nó\n",
        "\n",
        "  def inserir_antes_no(no, valor):\n",
        "    if no is None:\n",
        "        print(\"Erro: O nó fornecido não existe\")\n",
        "        return\n",
        "    novo_no = No(valor) # cria um novo nó com um valor fornecido\n",
        "    novo_no.anterior = no.anterior  # faz o ponteiro do novo nó apontar para o nó anterior\n",
        "    novo_no.proximo = no # faz o ponteiro 'proximo' do novo nó apontar para o nó fornecido\n",
        "    if no.anterior:\n",
        "        no.anterior.proximo = novo_no # se o nó anterior do nó fornecido não for vazio, aponta\n",
        "    no.anterior = novo_no # atualiza o ponteiro para o novo nó\n",
        "\n",
        "  def inserir_no_final(header, valor):\n",
        "    novo_no = No(valor) # cria um novo com um valor específico\n",
        "    if header is None:\n",
        "        return novo_no # se a lista estiver vazia, transforma o novo nó em cabeça\n",
        "    atual = header\n",
        "    while atual.proximo:\n",
        "        atual = atual.proximo # percorre a lista até o final\n",
        "    atual.proximo = novo_no # faz o ponteiro 'proximo' apontar para o novo nó\n",
        "    novo_no.anterior = atual # faz o ponteiro 'anterior' do novo nó apontar para o nó atual\n",
        "    return header\n",
        "\n",
        "  def remover_do_inicio(header):\n",
        "    if header is None: # verifica se a lista está vazia\n",
        "        print(\"A lista está vazia\")\n",
        "        return None\n",
        "    if header.proximo is None: # verifica se há apenas um nó na lista\n",
        "        return None\n",
        "    novo_header = header.proximo # acerta o ponteiro para apontar para a nova cabeça\n",
        "    novo_header.anterior = None\n",
        "    del header # remove a cabeça\n",
        "    return novo_header\n",
        "\n",
        "  def remover_na_posicao(header, posicao):\n",
        "    if header is None:\n",
        "        print(\"A lista está vazia\")\n",
        "        return None\n",
        "    if posicao < 0: # se a posição for menor que zero, retorna erro\n",
        "        print(\"Posição Inválida\")\n",
        "        return header\n",
        "    if posicao == 0: # se a posição for zero, deleta o nó do começo da lista\n",
        "        if header.proximo:\n",
        "            header.proximo.anterior = None\n",
        "        return header.proximo\n",
        "    atual = header\n",
        "    contador = 0\n",
        "    while atual and contador < posicao: # percorre a lista atá a posição fornecida\n",
        "        atual = atual.proximo\n",
        "        contador += 1\n",
        "    if atual is None:\n",
        "        print(\"Posição não existe na lista\")\n",
        "        return header\n",
        "    if atual.proximo: # atualiza os ponteiros\n",
        "        atual.proximo.anterior = atual.anterior\n",
        "    if atual.anterior:\n",
        "        atual.anterior.proximo = atual.proximo\n",
        "    del atual\n",
        "    return header\n",
        "\n",
        "  def remover_no_final(header):\n",
        "    if header is None:\n",
        "        print(\"A lista está vazia\")\n",
        "        return None\n",
        "    if header.proximo is None:\n",
        "        return None\n",
        "    atual = header\n",
        "    while atual.proximo.proximo:\n",
        "        atual = atual.proximo\n",
        "    del_no = atual.proximo\n",
        "    atual.proximo = None\n",
        "    del del_no\n",
        "    return header\n",
        "\n",
        "  def exibir_lista(header):\n",
        "    atual = header\n",
        "    while atual:\n",
        "        print(atual.valor, end=\" <-> \")\n",
        "        atual = atual.proximo\n",
        "    print(\"None\")\n",
        "\n",
        "header = None\n",
        "header = Lista.inserir_no_inicio(header, 10)\n",
        "header = Lista.inserir_no_inicio(header, 20)\n",
        "header = Lista.inserir_no_inicio(header, 30)\n",
        "header = Lista.inserir_no_inicio(header, 40)\n",
        "header = Lista.inserir_no_inicio(header, 50)\n",
        "Lista.exibir_lista(header)\n",
        "header = Lista.remover_na_posicao(header, 2)\n",
        "Lista.exibir_lista(header)\n"
      ],
      "metadata": {
        "colab": {
          "base_uri": "https://localhost:8080/"
        },
        "id": "_P2lXo1qOf-X",
        "outputId": "a1463721-1beb-4b46-a5b8-5115d88da14c"
      },
      "execution_count": 14,
      "outputs": [
        {
          "output_type": "stream",
          "name": "stdout",
          "text": [
            "50 <-> 40 <-> 30 <-> 20 <-> 10 <-> None\n",
            "50 <-> 40 <-> 20 <-> 10 <-> None\n"
          ]
        }
      ]
    },
    {
      "cell_type": "code",
      "source": [
        "# FIFO First In, First Out\n",
        "\n",
        "class Pilha:\n",
        "    def __init__(self):\n",
        "        self.pilha = []\n",
        "\n",
        "    def empilhar(self, elemento):\n",
        "        self.pilha.append(elemento)\n",
        "\n",
        "    def desempilhar(self):\n",
        "        if not self.esta_vazia():\n",
        "            return self.pilha.pop()\n",
        "        else:\n",
        "            print(\"A pilha está vazia.\")\n",
        "\n",
        "    def esta_vazia(self):\n",
        "        return len(self.pilha) == 0\n",
        "\n",
        "    def topo(self):\n",
        "        if not self.esta_vazia():\n",
        "            return self.pilha[-1]\n",
        "        else:\n",
        "            print(\"A pilha está vazia.\")\n",
        "\n",
        "    def exibir_pilha(self):\n",
        "        print(self.pilha)\n",
        "\n",
        "\n",
        "    def tamanho(self):\n",
        "        return len(self.pilha)\n",
        "\n",
        "pilha = Pilha()\n",
        "pilha.empilhar(100)\n",
        "pilha.empilhar(200)\n",
        "pilha.empilhar(300)\n",
        "pilha.empilhar(400)\n",
        "pilha.empilhar(500)\n",
        "\n",
        "pilha.exibir_pilha()\n",
        "\n",
        "\n",
        "print(f'The stack top is:', {pilha.topo()})\n",
        "print(f'The stack has {pilha.tamanho()} elements')\n",
        "print(f'Is the stack empty ? {pilha.esta_vazia()}')\n",
        "print(f'The following elements have been removed: {pilha.desempilhar()}')\n"
      ],
      "metadata": {
        "colab": {
          "base_uri": "https://localhost:8080/"
        },
        "id": "bNhuZigGWl41",
        "outputId": "693f8aa5-c5c4-42c5-8d6f-f45d35308c9c"
      },
      "execution_count": 15,
      "outputs": [
        {
          "output_type": "stream",
          "name": "stdout",
          "text": [
            "[100, 200, 300, 400, 500]\n",
            "The stack top is: {500}\n",
            "The stack has 5 elements\n",
            "Is the stack empty ? False\n",
            "The following elements have been removed: 500\n"
          ]
        }
      ]
    },
    {
      "cell_type": "code",
      "source": [],
      "metadata": {
        "id": "KpHaVXvb6NUs"
      },
      "execution_count": null,
      "outputs": []
    }
  ]
}